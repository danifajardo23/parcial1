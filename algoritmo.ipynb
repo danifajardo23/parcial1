{
 "cells": [
  {
   "cell_type": "markdown",
   "id": "76e285e7",
   "metadata": {},
   "source": [
    "Analisi de algortimo y recursividad"
   ]
  },
  {
   "cell_type": "code",
   "execution_count": 2,
   "id": "f2a6c6b1",
   "metadata": {},
   "outputs": [
    {
     "name": "stdout",
     "output_type": "stream",
     "text": [
      "Ok: utilidades listas.\n"
     ]
    }
   ],
   "source": [
    "import math, random, time, statistics, functools, sys, tracemalloc\n",
    "from typing import List, Dict, Any, Tuple, Optional\n",
    "\n",
    "def rand_list(n:int, *, lo:int=0, hi:int=10**6, unique:bool=False) -> List[int]: #los doble asterisco significan potencia \n",
    "    \"\"\"Genera una lista de enteros aleatorios\"\"\"\n",
    "    if unique:\n",
    "        # asegura unicidad con sample (restringe rango)\n",
    "        return random.sample(range(lo, max(hi, lo+n*2)), n) #random.sample significa que no se va a repetir - max significa cual es el numero maximo que hay en el parentesis\n",
    "    return [random.randint(lo, hi) for _ in range(n)] # ramdon-randint(lo, hi) son randon enteros entre los dos valores lo y hi. El valor for _ in significa que no lo va utilizar\n",
    "\n",
    "def timeit(func:callable, *args, repeat:int=5, warmup:int=1, **kvargs) -> tuple[float, list[float]]: # ayuda a tomar tiempo de ejecucion \n",
    "    \"\"\"Cronometra func(*args, **kwargs). Retorna (promedio, mediciones)\"\"\"\n",
    "    for _ in range(warmup):\n",
    "        func(*args, **kvargs)\n",
    "    samples = []\n",
    "    for _ in range(repeat):\n",
    "        t0 = time.perf_counter()\n",
    "        func(*args, **kvargs)\n",
    "        samples.append(time.perf_counter() - t0)\n",
    "    return statistics.mean(samples), samples\n",
    "\n",
    "def print_stats(samples:list[float]):\n",
    "    print(f\"n={len(samples)} mean={statistics.mean(samples):.6f}s median={statistics.median(samples):.6f}s stdev={statistics.pstdev(samples):.6f}s\") \n",
    "random.seed(42)\n",
    "print(\"Ok: utilidades listas.\")"
   ]
  },
  {
   "cell_type": "code",
   "execution_count": null,
   "id": "c84e6357",
   "metadata": {},
   "outputs": [],
   "source": [
    "# TODO 1: implementa busqueda lineal O(n)\n",
    "def linear_search(xs:list[int], target:int) -> int:\n",
    "    for i, v in enumerate(xs):\n",
    "        if v == target:\n",
    "            return i\n",
    "    return -1\n",
    "# TODO 2: impleta bsqueda binaria O(log n) (precondicion: lista ordenada)\n",
    "def binary_search(sorted_xs:list[int], target:int)-> int:\n",
    "    lo, hi = 0, len(sorted_xs)-1\n",
    "    while lo <= hi:\n",
    "        mid = (lo + hi) // 2\n",
    "        if sorted_xs[mid] == target:\n",
    "            return mid\n",
    "        if sorted_xs[mid] < target:\n",
    "            lo = mid + 1\n",
    "        else: \n",
    "            hi= mid - 1\n",
    "    return -1\n",
    "#TODO 3: implementa bubble sort O(n^2)\n",
    "def bubble_sort(xs:list[int]) -> list[int]:\n",
    "    xs = xs= [:] #no mutar entrada"
   ]
  }
 ],
 "metadata": {
  "kernelspec": {
   "display_name": "Python 3",
   "language": "python",
   "name": "python3"
  },
  "language_info": {
   "codemirror_mode": {
    "name": "ipython",
    "version": 3
   },
   "file_extension": ".py",
   "mimetype": "text/x-python",
   "name": "python",
   "nbconvert_exporter": "python",
   "pygments_lexer": "ipython3",
   "version": "3.11.9"
  }
 },
 "nbformat": 4,
 "nbformat_minor": 5
}
